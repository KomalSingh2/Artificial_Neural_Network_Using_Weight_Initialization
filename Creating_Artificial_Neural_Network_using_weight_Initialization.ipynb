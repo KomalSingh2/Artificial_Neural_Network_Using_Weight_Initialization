{
  "nbformat": 4,
  "nbformat_minor": 0,
  "metadata": {
    "colab": {
      "name": "Creating Artificial Neural Network using weight Initialization ",
      "provenance": [],
      "mount_file_id": "1Iks5SITfS6owi7VX-SU1Gh1wkeWXpEsK",
      "authorship_tag": "ABX9TyMDeRHt+hGGYbgQ6PXjRhyT",
      "include_colab_link": true
    },
    "kernelspec": {
      "name": "python3",
      "display_name": "Python 3"
    }
  },
  "cells": [
    {
      "cell_type": "markdown",
      "metadata": {
        "id": "view-in-github",
        "colab_type": "text"
      },
      "source": [
        "<a href=\"https://colab.research.google.com/github/KomalSingh2/Artificial_Neural_Network_Using_Weight_Initialization/blob/main/Creating_Artificial_Neural_Network_using_weight_Initialization.ipynb\" target=\"_parent\"><img src=\"https://colab.research.google.com/assets/colab-badge.svg\" alt=\"Open In Colab\"/></a>"
      ]
    },
    {
      "cell_type": "code",
      "metadata": {
        "id": "UPa865xBEtPF"
      },
      "source": [
        "import pandas as pd\r\n",
        "import numpy as np\r\n",
        "import matplotlib.pyplot as plt\r\n"
      ],
      "execution_count": 24,
      "outputs": []
    },
    {
      "cell_type": "code",
      "metadata": {
        "colab": {
          "base_uri": "https://localhost:8080/",
          "height": 204
        },
        "id": "1MplmQTLHAtD",
        "outputId": "9c16853d-7a21-4a24-caef-d5378fe906b6"
      },
      "source": [
        "df=pd.read_csv(\"/content/drive/MyDrive/Churn_Modelling.csv\")\r\n",
        "df.head()"
      ],
      "execution_count": 2,
      "outputs": [
        {
          "output_type": "execute_result",
          "data": {
            "text/html": [
              "<div>\n",
              "<style scoped>\n",
              "    .dataframe tbody tr th:only-of-type {\n",
              "        vertical-align: middle;\n",
              "    }\n",
              "\n",
              "    .dataframe tbody tr th {\n",
              "        vertical-align: top;\n",
              "    }\n",
              "\n",
              "    .dataframe thead th {\n",
              "        text-align: right;\n",
              "    }\n",
              "</style>\n",
              "<table border=\"1\" class=\"dataframe\">\n",
              "  <thead>\n",
              "    <tr style=\"text-align: right;\">\n",
              "      <th></th>\n",
              "      <th>RowNumber</th>\n",
              "      <th>CustomerId</th>\n",
              "      <th>Surname</th>\n",
              "      <th>CreditScore</th>\n",
              "      <th>Geography</th>\n",
              "      <th>Gender</th>\n",
              "      <th>Age</th>\n",
              "      <th>Tenure</th>\n",
              "      <th>Balance</th>\n",
              "      <th>NumOfProducts</th>\n",
              "      <th>HasCrCard</th>\n",
              "      <th>IsActiveMember</th>\n",
              "      <th>EstimatedSalary</th>\n",
              "      <th>Exited</th>\n",
              "    </tr>\n",
              "  </thead>\n",
              "  <tbody>\n",
              "    <tr>\n",
              "      <th>0</th>\n",
              "      <td>1</td>\n",
              "      <td>15634602</td>\n",
              "      <td>Hargrave</td>\n",
              "      <td>619</td>\n",
              "      <td>France</td>\n",
              "      <td>Female</td>\n",
              "      <td>42</td>\n",
              "      <td>2</td>\n",
              "      <td>0.00</td>\n",
              "      <td>1</td>\n",
              "      <td>1</td>\n",
              "      <td>1</td>\n",
              "      <td>101348.88</td>\n",
              "      <td>1</td>\n",
              "    </tr>\n",
              "    <tr>\n",
              "      <th>1</th>\n",
              "      <td>2</td>\n",
              "      <td>15647311</td>\n",
              "      <td>Hill</td>\n",
              "      <td>608</td>\n",
              "      <td>Spain</td>\n",
              "      <td>Female</td>\n",
              "      <td>41</td>\n",
              "      <td>1</td>\n",
              "      <td>83807.86</td>\n",
              "      <td>1</td>\n",
              "      <td>0</td>\n",
              "      <td>1</td>\n",
              "      <td>112542.58</td>\n",
              "      <td>0</td>\n",
              "    </tr>\n",
              "    <tr>\n",
              "      <th>2</th>\n",
              "      <td>3</td>\n",
              "      <td>15619304</td>\n",
              "      <td>Onio</td>\n",
              "      <td>502</td>\n",
              "      <td>France</td>\n",
              "      <td>Female</td>\n",
              "      <td>42</td>\n",
              "      <td>8</td>\n",
              "      <td>159660.80</td>\n",
              "      <td>3</td>\n",
              "      <td>1</td>\n",
              "      <td>0</td>\n",
              "      <td>113931.57</td>\n",
              "      <td>1</td>\n",
              "    </tr>\n",
              "    <tr>\n",
              "      <th>3</th>\n",
              "      <td>4</td>\n",
              "      <td>15701354</td>\n",
              "      <td>Boni</td>\n",
              "      <td>699</td>\n",
              "      <td>France</td>\n",
              "      <td>Female</td>\n",
              "      <td>39</td>\n",
              "      <td>1</td>\n",
              "      <td>0.00</td>\n",
              "      <td>2</td>\n",
              "      <td>0</td>\n",
              "      <td>0</td>\n",
              "      <td>93826.63</td>\n",
              "      <td>0</td>\n",
              "    </tr>\n",
              "    <tr>\n",
              "      <th>4</th>\n",
              "      <td>5</td>\n",
              "      <td>15737888</td>\n",
              "      <td>Mitchell</td>\n",
              "      <td>850</td>\n",
              "      <td>Spain</td>\n",
              "      <td>Female</td>\n",
              "      <td>43</td>\n",
              "      <td>2</td>\n",
              "      <td>125510.82</td>\n",
              "      <td>1</td>\n",
              "      <td>1</td>\n",
              "      <td>1</td>\n",
              "      <td>79084.10</td>\n",
              "      <td>0</td>\n",
              "    </tr>\n",
              "  </tbody>\n",
              "</table>\n",
              "</div>"
            ],
            "text/plain": [
              "   RowNumber  CustomerId   Surname  ...  IsActiveMember EstimatedSalary Exited\n",
              "0          1    15634602  Hargrave  ...               1       101348.88      1\n",
              "1          2    15647311      Hill  ...               1       112542.58      0\n",
              "2          3    15619304      Onio  ...               0       113931.57      1\n",
              "3          4    15701354      Boni  ...               0        93826.63      0\n",
              "4          5    15737888  Mitchell  ...               1        79084.10      0\n",
              "\n",
              "[5 rows x 14 columns]"
            ]
          },
          "metadata": {
            "tags": []
          },
          "execution_count": 2
        }
      ]
    },
    {
      "cell_type": "code",
      "metadata": {
        "id": "KTDF9HJjID6b"
      },
      "source": [
        "X=df.iloc[:,3:13]\r\n",
        "Y=df.iloc[:,13]"
      ],
      "execution_count": 3,
      "outputs": []
    },
    {
      "cell_type": "code",
      "metadata": {
        "id": "Mtv8B8OOIr-w"
      },
      "source": [
        "geography=pd.get_dummies(X['Geography'],drop_first=True)\r\n",
        "gender=pd.get_dummies(X['Gender'],drop_first=True)"
      ],
      "execution_count": 4,
      "outputs": []
    },
    {
      "cell_type": "code",
      "metadata": {
        "id": "MWoGbmaLJJ1z"
      },
      "source": [
        "X=pd.concat([X,geography,gender],axis=1)"
      ],
      "execution_count": 5,
      "outputs": []
    },
    {
      "cell_type": "code",
      "metadata": {
        "id": "vsjMthSwJbKY"
      },
      "source": [
        "X=X.drop(['Geography','Gender'],axis=1)"
      ],
      "execution_count": 6,
      "outputs": []
    },
    {
      "cell_type": "code",
      "metadata": {
        "colab": {
          "base_uri": "https://localhost:8080/"
        },
        "id": "YWrEb3s3MED1",
        "outputId": "fb37c493-3e8c-49fd-b334-b9837ad8922e"
      },
      "source": [
        "pip install sklearn"
      ],
      "execution_count": 7,
      "outputs": [
        {
          "output_type": "stream",
          "text": [
            "Requirement already satisfied: sklearn in /usr/local/lib/python3.6/dist-packages (0.0)\n",
            "Requirement already satisfied: scikit-learn in /usr/local/lib/python3.6/dist-packages (from sklearn) (0.22.2.post1)\n",
            "Requirement already satisfied: joblib>=0.11 in /usr/local/lib/python3.6/dist-packages (from scikit-learn->sklearn) (1.0.0)\n",
            "Requirement already satisfied: numpy>=1.11.0 in /usr/local/lib/python3.6/dist-packages (from scikit-learn->sklearn) (1.19.5)\n",
            "Requirement already satisfied: scipy>=0.17.0 in /usr/local/lib/python3.6/dist-packages (from scikit-learn->sklearn) (1.4.1)\n"
          ],
          "name": "stdout"
        }
      ]
    },
    {
      "cell_type": "code",
      "metadata": {
        "id": "98wyWrOKJrjR"
      },
      "source": [
        "from sklearn.model_selection import train_test_split"
      ],
      "execution_count": 8,
      "outputs": []
    },
    {
      "cell_type": "code",
      "metadata": {
        "id": "w3bvA8-qKjTp"
      },
      "source": [
        "X_train,X_test,Y_train,Y_test=train_test_split(X,Y,test_size=0.2,random_state=0)"
      ],
      "execution_count": 9,
      "outputs": []
    },
    {
      "cell_type": "code",
      "metadata": {
        "id": "Urm9bpjTLFoD"
      },
      "source": [
        "from sklearn.preprocessing import StandardScaler\r\n",
        "sc =  StandardScaler()\r\n",
        "X_train= sc.fit_transform(X_train)\r\n",
        "X_test = sc.transform(X_test)"
      ],
      "execution_count": 10,
      "outputs": []
    },
    {
      "cell_type": "code",
      "metadata": {
        "id": "K1sSO59FMXNV"
      },
      "source": [
        "import keras\r\n",
        "from keras.models import Sequential\r\n",
        "from keras.layers import Dense\r\n",
        "from keras.layers import LeakyReLU,PReLU,ELU\r\n",
        "from keras.layers import Dropout"
      ],
      "execution_count": 11,
      "outputs": []
    },
    {
      "cell_type": "code",
      "metadata": {
        "id": "cOKT5hksNOo3"
      },
      "source": [
        "#Initializing the ANN\r\n",
        "classifier = Sequential()"
      ],
      "execution_count": 12,
      "outputs": []
    },
    {
      "cell_type": "code",
      "metadata": {
        "id": "vSVodz4MOytY"
      },
      "source": [
        "#Adding the input layer & first Hidden Layer\r\n",
        "classifier.add(Dense(units=6, kernel_initializer='he_uniform',activation='relu',input_dim=11))\r\n",
        "classifier.add(Dropout(0.3))"
      ],
      "execution_count": 13,
      "outputs": []
    },
    {
      "cell_type": "code",
      "metadata": {
        "id": "LPVzgt-LPdJL"
      },
      "source": [
        "#Adding second Hidden Layer\r\n",
        "classifier.add(Dense(units=6, kernel_initializer='he_uniform',activation='relu'))\r\n",
        "classifier.add(Dropout(0.4))"
      ],
      "execution_count": 14,
      "outputs": []
    },
    {
      "cell_type": "code",
      "metadata": {
        "id": "vN7jKZ4rPxsM"
      },
      "source": [
        "#Adding the output layer\r\n",
        "classifier.add(Dense(units=6, kernel_initializer='he_uniform',activation='relu'))\r\n",
        "classifier.add(Dropout(0.2))"
      ],
      "execution_count": 15,
      "outputs": []
    },
    {
      "cell_type": "code",
      "metadata": {
        "id": "zyyH0IO2XpRQ"
      },
      "source": [
        "classifier.add(Dense(units=1, kernel_initializer='glorot_uniform',activation='sigmoid'))\r\n",
        "classifier.add(Dropout(0.2))"
      ],
      "execution_count": 16,
      "outputs": []
    },
    {
      "cell_type": "code",
      "metadata": {
        "id": "fPNd4tekRFXY"
      },
      "source": [
        "#Compiling the ANN\r\n",
        "classifier.compile(optimizer='adam',loss='binary_crossentropy',metrics=['accuracy'])"
      ],
      "execution_count": 17,
      "outputs": []
    },
    {
      "cell_type": "code",
      "metadata": {
        "colab": {
          "base_uri": "https://localhost:8080/"
        },
        "id": "m7dRegM3SdUc",
        "outputId": "0d22f039-8fa6-43fa-a38e-2d0f10c76bd8"
      },
      "source": [
        "model_history = classifier.fit(X_train,Y_train,validation_split=0.33,batch_size=10, epochs=100)"
      ],
      "execution_count": 20,
      "outputs": [
        {
          "output_type": "stream",
          "text": [
            "Epoch 1/100\n",
            "536/536 [==============================] - 2s 2ms/step - loss: 1.3125 - accuracy: 0.6191 - val_loss: 0.4862 - val_accuracy: 0.7955\n",
            "Epoch 2/100\n",
            "536/536 [==============================] - 1s 2ms/step - loss: 1.0057 - accuracy: 0.7864 - val_loss: 0.4752 - val_accuracy: 0.7955\n",
            "Epoch 3/100\n",
            "536/536 [==============================] - 1s 2ms/step - loss: 1.0485 - accuracy: 0.7931 - val_loss: 0.4747 - val_accuracy: 0.7955\n",
            "Epoch 4/100\n",
            "536/536 [==============================] - 1s 2ms/step - loss: 0.9159 - accuracy: 0.7979 - val_loss: 0.4697 - val_accuracy: 0.7955\n",
            "Epoch 5/100\n",
            "536/536 [==============================] - 1s 2ms/step - loss: 1.0467 - accuracy: 0.7998 - val_loss: 0.4667 - val_accuracy: 0.7955\n",
            "Epoch 6/100\n",
            "536/536 [==============================] - 1s 2ms/step - loss: 0.9836 - accuracy: 0.7986 - val_loss: 0.4637 - val_accuracy: 0.7955\n",
            "Epoch 7/100\n",
            "536/536 [==============================] - 1s 2ms/step - loss: 1.0020 - accuracy: 0.7939 - val_loss: 0.4621 - val_accuracy: 0.7955\n",
            "Epoch 8/100\n",
            "536/536 [==============================] - 1s 2ms/step - loss: 1.0287 - accuracy: 0.7959 - val_loss: 0.4607 - val_accuracy: 0.7955\n",
            "Epoch 9/100\n",
            "536/536 [==============================] - 1s 2ms/step - loss: 1.0064 - accuracy: 0.8003 - val_loss: 0.4598 - val_accuracy: 0.7955\n",
            "Epoch 10/100\n",
            "536/536 [==============================] - 1s 2ms/step - loss: 0.9691 - accuracy: 0.7933 - val_loss: 0.4543 - val_accuracy: 0.7955\n",
            "Epoch 11/100\n",
            "536/536 [==============================] - 1s 2ms/step - loss: 1.0560 - accuracy: 0.8055 - val_loss: 0.4549 - val_accuracy: 0.7955\n",
            "Epoch 12/100\n",
            "536/536 [==============================] - 1s 2ms/step - loss: 0.9951 - accuracy: 0.7919 - val_loss: 0.4523 - val_accuracy: 0.7955\n",
            "Epoch 13/100\n",
            "536/536 [==============================] - 1s 2ms/step - loss: 0.9496 - accuracy: 0.7952 - val_loss: 0.4503 - val_accuracy: 0.7955\n",
            "Epoch 14/100\n",
            "536/536 [==============================] - 1s 2ms/step - loss: 0.9658 - accuracy: 0.8055 - val_loss: 0.4497 - val_accuracy: 0.7955\n",
            "Epoch 15/100\n",
            "536/536 [==============================] - 1s 2ms/step - loss: 0.9656 - accuracy: 0.7866 - val_loss: 0.4520 - val_accuracy: 0.7955\n",
            "Epoch 16/100\n",
            "536/536 [==============================] - 1s 2ms/step - loss: 0.9300 - accuracy: 0.7987 - val_loss: 0.4520 - val_accuracy: 0.7955\n",
            "Epoch 17/100\n",
            "536/536 [==============================] - 1s 2ms/step - loss: 1.0230 - accuracy: 0.7938 - val_loss: 0.4483 - val_accuracy: 0.7955\n",
            "Epoch 18/100\n",
            "536/536 [==============================] - 1s 2ms/step - loss: 1.1428 - accuracy: 0.7938 - val_loss: 0.4493 - val_accuracy: 0.7955\n",
            "Epoch 19/100\n",
            "536/536 [==============================] - 1s 2ms/step - loss: 1.0649 - accuracy: 0.7905 - val_loss: 0.4484 - val_accuracy: 0.7955\n",
            "Epoch 20/100\n",
            "536/536 [==============================] - 1s 2ms/step - loss: 0.9614 - accuracy: 0.7983 - val_loss: 0.4454 - val_accuracy: 0.7955\n",
            "Epoch 21/100\n",
            "536/536 [==============================] - 1s 2ms/step - loss: 0.9754 - accuracy: 0.7940 - val_loss: 0.4454 - val_accuracy: 0.7955\n",
            "Epoch 22/100\n",
            "536/536 [==============================] - 1s 2ms/step - loss: 0.9025 - accuracy: 0.8060 - val_loss: 0.4470 - val_accuracy: 0.7955\n",
            "Epoch 23/100\n",
            "536/536 [==============================] - 1s 2ms/step - loss: 1.0063 - accuracy: 0.7920 - val_loss: 0.4464 - val_accuracy: 0.7955\n",
            "Epoch 24/100\n",
            "536/536 [==============================] - 1s 2ms/step - loss: 1.0359 - accuracy: 0.7922 - val_loss: 0.4473 - val_accuracy: 0.7955\n",
            "Epoch 25/100\n",
            "536/536 [==============================] - 1s 2ms/step - loss: 0.9358 - accuracy: 0.8032 - val_loss: 0.4448 - val_accuracy: 0.7955\n",
            "Epoch 26/100\n",
            "536/536 [==============================] - 1s 2ms/step - loss: 0.9990 - accuracy: 0.7983 - val_loss: 0.4453 - val_accuracy: 0.7955\n",
            "Epoch 27/100\n",
            "536/536 [==============================] - 1s 2ms/step - loss: 0.9531 - accuracy: 0.8056 - val_loss: 0.4440 - val_accuracy: 0.7955\n",
            "Epoch 28/100\n",
            "536/536 [==============================] - 1s 2ms/step - loss: 0.9550 - accuracy: 0.8082 - val_loss: 0.4455 - val_accuracy: 0.7955\n",
            "Epoch 29/100\n",
            "536/536 [==============================] - 1s 2ms/step - loss: 0.9967 - accuracy: 0.8004 - val_loss: 0.4445 - val_accuracy: 0.7955\n",
            "Epoch 30/100\n",
            "536/536 [==============================] - 1s 2ms/step - loss: 0.9663 - accuracy: 0.7999 - val_loss: 0.4454 - val_accuracy: 0.7955\n",
            "Epoch 31/100\n",
            "536/536 [==============================] - 1s 2ms/step - loss: 0.9749 - accuracy: 0.8024 - val_loss: 0.4386 - val_accuracy: 0.7955\n",
            "Epoch 32/100\n",
            "536/536 [==============================] - 1s 2ms/step - loss: 0.9895 - accuracy: 0.8062 - val_loss: 0.4401 - val_accuracy: 0.7955\n",
            "Epoch 33/100\n",
            "536/536 [==============================] - 1s 2ms/step - loss: 0.9884 - accuracy: 0.7913 - val_loss: 0.4383 - val_accuracy: 0.7955\n",
            "Epoch 34/100\n",
            "536/536 [==============================] - 1s 2ms/step - loss: 0.9931 - accuracy: 0.8073 - val_loss: 0.4361 - val_accuracy: 0.7955\n",
            "Epoch 35/100\n",
            "536/536 [==============================] - 1s 2ms/step - loss: 0.9714 - accuracy: 0.8013 - val_loss: 0.4380 - val_accuracy: 0.7955\n",
            "Epoch 36/100\n",
            "536/536 [==============================] - 1s 2ms/step - loss: 1.0193 - accuracy: 0.7919 - val_loss: 0.4389 - val_accuracy: 0.7955\n",
            "Epoch 37/100\n",
            "536/536 [==============================] - 1s 2ms/step - loss: 0.9208 - accuracy: 0.8080 - val_loss: 0.4384 - val_accuracy: 0.7955\n",
            "Epoch 38/100\n",
            "536/536 [==============================] - 1s 2ms/step - loss: 1.0859 - accuracy: 0.7967 - val_loss: 0.4389 - val_accuracy: 0.7955\n",
            "Epoch 39/100\n",
            "536/536 [==============================] - 1s 2ms/step - loss: 1.1004 - accuracy: 0.7957 - val_loss: 0.4351 - val_accuracy: 0.7955\n",
            "Epoch 40/100\n",
            "536/536 [==============================] - 1s 2ms/step - loss: 0.9992 - accuracy: 0.8006 - val_loss: 0.4372 - val_accuracy: 0.7955\n",
            "Epoch 41/100\n",
            "536/536 [==============================] - 1s 2ms/step - loss: 1.1338 - accuracy: 0.8048 - val_loss: 0.4343 - val_accuracy: 0.7955\n",
            "Epoch 42/100\n",
            "536/536 [==============================] - 1s 2ms/step - loss: 0.9395 - accuracy: 0.8000 - val_loss: 0.4354 - val_accuracy: 0.7955\n",
            "Epoch 43/100\n",
            "536/536 [==============================] - 1s 2ms/step - loss: 0.9120 - accuracy: 0.8046 - val_loss: 0.4331 - val_accuracy: 0.7955\n",
            "Epoch 44/100\n",
            "536/536 [==============================] - 1s 2ms/step - loss: 1.0705 - accuracy: 0.7983 - val_loss: 0.4319 - val_accuracy: 0.7955\n",
            "Epoch 45/100\n",
            "536/536 [==============================] - 1s 2ms/step - loss: 1.0040 - accuracy: 0.8041 - val_loss: 0.4315 - val_accuracy: 0.7955\n",
            "Epoch 46/100\n",
            "536/536 [==============================] - 1s 2ms/step - loss: 1.0057 - accuracy: 0.8072 - val_loss: 0.4295 - val_accuracy: 0.7955\n",
            "Epoch 47/100\n",
            "536/536 [==============================] - 1s 2ms/step - loss: 0.9655 - accuracy: 0.8046 - val_loss: 0.4352 - val_accuracy: 0.7955\n",
            "Epoch 48/100\n",
            "536/536 [==============================] - 1s 2ms/step - loss: 1.0047 - accuracy: 0.8020 - val_loss: 0.4296 - val_accuracy: 0.7955\n",
            "Epoch 49/100\n",
            "536/536 [==============================] - 1s 2ms/step - loss: 0.8709 - accuracy: 0.8141 - val_loss: 0.4311 - val_accuracy: 0.7955\n",
            "Epoch 50/100\n",
            "536/536 [==============================] - 1s 2ms/step - loss: 0.9972 - accuracy: 0.8085 - val_loss: 0.4299 - val_accuracy: 0.7955\n",
            "Epoch 51/100\n",
            "536/536 [==============================] - 1s 2ms/step - loss: 1.0980 - accuracy: 0.7992 - val_loss: 0.4299 - val_accuracy: 0.7955\n",
            "Epoch 52/100\n",
            "536/536 [==============================] - 1s 2ms/step - loss: 1.0208 - accuracy: 0.8093 - val_loss: 0.4295 - val_accuracy: 0.7955\n",
            "Epoch 53/100\n",
            "536/536 [==============================] - 1s 2ms/step - loss: 0.9733 - accuracy: 0.8136 - val_loss: 0.4308 - val_accuracy: 0.7955\n",
            "Epoch 54/100\n",
            "536/536 [==============================] - 1s 2ms/step - loss: 1.0225 - accuracy: 0.8013 - val_loss: 0.4280 - val_accuracy: 0.7955\n",
            "Epoch 55/100\n",
            "536/536 [==============================] - 1s 2ms/step - loss: 0.9829 - accuracy: 0.7988 - val_loss: 0.4296 - val_accuracy: 0.7955\n",
            "Epoch 56/100\n",
            "536/536 [==============================] - 1s 2ms/step - loss: 1.0760 - accuracy: 0.8014 - val_loss: 0.4261 - val_accuracy: 0.7955\n",
            "Epoch 57/100\n",
            "536/536 [==============================] - 1s 2ms/step - loss: 1.0044 - accuracy: 0.7923 - val_loss: 0.4244 - val_accuracy: 0.7955\n",
            "Epoch 58/100\n",
            "536/536 [==============================] - 1s 2ms/step - loss: 0.9884 - accuracy: 0.7963 - val_loss: 0.4271 - val_accuracy: 0.7955\n",
            "Epoch 59/100\n",
            "536/536 [==============================] - 1s 2ms/step - loss: 0.9862 - accuracy: 0.8094 - val_loss: 0.4260 - val_accuracy: 0.7955\n",
            "Epoch 60/100\n",
            "536/536 [==============================] - 1s 2ms/step - loss: 0.8963 - accuracy: 0.8033 - val_loss: 0.4251 - val_accuracy: 0.7955\n",
            "Epoch 61/100\n",
            "536/536 [==============================] - 1s 2ms/step - loss: 0.9322 - accuracy: 0.8029 - val_loss: 0.4250 - val_accuracy: 0.7955\n",
            "Epoch 62/100\n",
            "536/536 [==============================] - 1s 2ms/step - loss: 0.8634 - accuracy: 0.8124 - val_loss: 0.4264 - val_accuracy: 0.7955\n",
            "Epoch 63/100\n",
            "536/536 [==============================] - 1s 2ms/step - loss: 0.9258 - accuracy: 0.8150 - val_loss: 0.4258 - val_accuracy: 0.7955\n",
            "Epoch 64/100\n",
            "536/536 [==============================] - 1s 2ms/step - loss: 0.9168 - accuracy: 0.8035 - val_loss: 0.4271 - val_accuracy: 0.7955\n",
            "Epoch 65/100\n",
            "536/536 [==============================] - 1s 2ms/step - loss: 0.9393 - accuracy: 0.8038 - val_loss: 0.4247 - val_accuracy: 0.7955\n",
            "Epoch 66/100\n",
            "536/536 [==============================] - 1s 2ms/step - loss: 1.0217 - accuracy: 0.8001 - val_loss: 0.4213 - val_accuracy: 0.7955\n",
            "Epoch 67/100\n",
            "536/536 [==============================] - 1s 2ms/step - loss: 0.8619 - accuracy: 0.8130 - val_loss: 0.4225 - val_accuracy: 0.7955\n",
            "Epoch 68/100\n",
            "536/536 [==============================] - 1s 2ms/step - loss: 1.0181 - accuracy: 0.8102 - val_loss: 0.4253 - val_accuracy: 0.7955\n",
            "Epoch 69/100\n",
            "536/536 [==============================] - 1s 2ms/step - loss: 0.9328 - accuracy: 0.7957 - val_loss: 0.4246 - val_accuracy: 0.7955\n",
            "Epoch 70/100\n",
            "536/536 [==============================] - 1s 2ms/step - loss: 1.0207 - accuracy: 0.8020 - val_loss: 0.4251 - val_accuracy: 0.7955\n",
            "Epoch 71/100\n",
            "536/536 [==============================] - 1s 2ms/step - loss: 0.8878 - accuracy: 0.8076 - val_loss: 0.4221 - val_accuracy: 0.7955\n",
            "Epoch 72/100\n",
            "536/536 [==============================] - 1s 2ms/step - loss: 0.9283 - accuracy: 0.8115 - val_loss: 0.4242 - val_accuracy: 0.7955\n",
            "Epoch 73/100\n",
            "536/536 [==============================] - 1s 2ms/step - loss: 1.0397 - accuracy: 0.7997 - val_loss: 0.4213 - val_accuracy: 0.7955\n",
            "Epoch 74/100\n",
            "536/536 [==============================] - 1s 2ms/step - loss: 0.9001 - accuracy: 0.8131 - val_loss: 0.4207 - val_accuracy: 0.7955\n",
            "Epoch 75/100\n",
            "536/536 [==============================] - 1s 2ms/step - loss: 0.9948 - accuracy: 0.8105 - val_loss: 0.4197 - val_accuracy: 0.7955\n",
            "Epoch 76/100\n",
            "536/536 [==============================] - 1s 2ms/step - loss: 0.9489 - accuracy: 0.7987 - val_loss: 0.4224 - val_accuracy: 0.7955\n",
            "Epoch 77/100\n",
            "536/536 [==============================] - 1s 2ms/step - loss: 0.9632 - accuracy: 0.8092 - val_loss: 0.4246 - val_accuracy: 0.7955\n",
            "Epoch 78/100\n",
            "536/536 [==============================] - 1s 2ms/step - loss: 0.8577 - accuracy: 0.8080 - val_loss: 0.4251 - val_accuracy: 0.7955\n",
            "Epoch 79/100\n",
            "536/536 [==============================] - 1s 2ms/step - loss: 0.8971 - accuracy: 0.8116 - val_loss: 0.4234 - val_accuracy: 0.7955\n",
            "Epoch 80/100\n",
            "536/536 [==============================] - 1s 2ms/step - loss: 1.0239 - accuracy: 0.7966 - val_loss: 0.4230 - val_accuracy: 0.7955\n",
            "Epoch 81/100\n",
            "536/536 [==============================] - 1s 2ms/step - loss: 1.1040 - accuracy: 0.7918 - val_loss: 0.4224 - val_accuracy: 0.7955\n",
            "Epoch 82/100\n",
            "536/536 [==============================] - 1s 2ms/step - loss: 0.8984 - accuracy: 0.7995 - val_loss: 0.4232 - val_accuracy: 0.7955\n",
            "Epoch 83/100\n",
            "536/536 [==============================] - 1s 2ms/step - loss: 0.8533 - accuracy: 0.7967 - val_loss: 0.4197 - val_accuracy: 0.7955\n",
            "Epoch 84/100\n",
            "536/536 [==============================] - 1s 2ms/step - loss: 1.0767 - accuracy: 0.8020 - val_loss: 0.4194 - val_accuracy: 0.7955\n",
            "Epoch 85/100\n",
            "536/536 [==============================] - 1s 2ms/step - loss: 0.9650 - accuracy: 0.7913 - val_loss: 0.4218 - val_accuracy: 0.7955\n",
            "Epoch 86/100\n",
            "536/536 [==============================] - 1s 2ms/step - loss: 0.9661 - accuracy: 0.7990 - val_loss: 0.4192 - val_accuracy: 0.7955\n",
            "Epoch 87/100\n",
            "536/536 [==============================] - 1s 2ms/step - loss: 0.9402 - accuracy: 0.8081 - val_loss: 0.4179 - val_accuracy: 0.7955\n",
            "Epoch 88/100\n",
            "536/536 [==============================] - 1s 2ms/step - loss: 0.9695 - accuracy: 0.8044 - val_loss: 0.4213 - val_accuracy: 0.7955\n",
            "Epoch 89/100\n",
            "536/536 [==============================] - 1s 2ms/step - loss: 0.9712 - accuracy: 0.8006 - val_loss: 0.4227 - val_accuracy: 0.7955\n",
            "Epoch 90/100\n",
            "536/536 [==============================] - 1s 2ms/step - loss: 1.0385 - accuracy: 0.8020 - val_loss: 0.4238 - val_accuracy: 0.7955\n",
            "Epoch 91/100\n",
            "536/536 [==============================] - 1s 2ms/step - loss: 1.0154 - accuracy: 0.8010 - val_loss: 0.4213 - val_accuracy: 0.7955\n",
            "Epoch 92/100\n",
            "536/536 [==============================] - 1s 2ms/step - loss: 1.0885 - accuracy: 0.7948 - val_loss: 0.4205 - val_accuracy: 0.7955\n",
            "Epoch 93/100\n",
            "536/536 [==============================] - 1s 2ms/step - loss: 0.9104 - accuracy: 0.8035 - val_loss: 0.4213 - val_accuracy: 0.7955\n",
            "Epoch 94/100\n",
            "536/536 [==============================] - 1s 2ms/step - loss: 0.9779 - accuracy: 0.8081 - val_loss: 0.4215 - val_accuracy: 0.7955\n",
            "Epoch 95/100\n",
            "536/536 [==============================] - 1s 2ms/step - loss: 0.9663 - accuracy: 0.8090 - val_loss: 0.4190 - val_accuracy: 0.7955\n",
            "Epoch 96/100\n",
            "536/536 [==============================] - 1s 2ms/step - loss: 1.0565 - accuracy: 0.7991 - val_loss: 0.4222 - val_accuracy: 0.7955\n",
            "Epoch 97/100\n",
            "536/536 [==============================] - 1s 2ms/step - loss: 0.8611 - accuracy: 0.7948 - val_loss: 0.4182 - val_accuracy: 0.7955\n",
            "Epoch 98/100\n",
            "536/536 [==============================] - 1s 2ms/step - loss: 0.9262 - accuracy: 0.7987 - val_loss: 0.4193 - val_accuracy: 0.7955\n",
            "Epoch 99/100\n",
            "536/536 [==============================] - 1s 2ms/step - loss: 0.8945 - accuracy: 0.7952 - val_loss: 0.4232 - val_accuracy: 0.7955\n",
            "Epoch 100/100\n",
            "536/536 [==============================] - 1s 2ms/step - loss: 1.0685 - accuracy: 0.7878 - val_loss: 0.4168 - val_accuracy: 0.7955\n"
          ],
          "name": "stdout"
        }
      ]
    },
    {
      "cell_type": "code",
      "metadata": {
        "id": "wRJcB-lJTo9a",
        "colab": {
          "base_uri": "https://localhost:8080/"
        },
        "outputId": "08820015-123d-4d87-999e-8b49d0ccd5d8"
      },
      "source": [
        "print(model_history.history.keys())"
      ],
      "execution_count": 21,
      "outputs": [
        {
          "output_type": "stream",
          "text": [
            "dict_keys(['loss', 'accuracy', 'val_loss', 'val_accuracy'])\n"
          ],
          "name": "stdout"
        }
      ]
    },
    {
      "cell_type": "code",
      "metadata": {
        "id": "uU4oMXK3TyqN",
        "colab": {
          "base_uri": "https://localhost:8080/",
          "height": 231
        },
        "outputId": "f05c8842-2b2f-41b5-f175-4879621258e8"
      },
      "source": [
        "plt.plot(model_history.history('accuracy',accuracy))\r\n",
        "plt.plot(model_history.history('val_accuracy',val_accuracy))\r\n",
        "plt.title('model accuracy')\r\n",
        "plt.xlabel('epoch')\r\n",
        "plt.ylabel('accuracy')\r\n",
        "plt.legend(['train','test'],loc='upper left')\r\n",
        "plt.show()"
      ],
      "execution_count": 27,
      "outputs": [
        {
          "output_type": "error",
          "ename": "NameError",
          "evalue": "ignored",
          "traceback": [
            "\u001b[0;31m---------------------------------------------------------------------------\u001b[0m",
            "\u001b[0;31mNameError\u001b[0m                                 Traceback (most recent call last)",
            "\u001b[0;32m<ipython-input-27-c93fa0e57a7c>\u001b[0m in \u001b[0;36m<module>\u001b[0;34m()\u001b[0m\n\u001b[0;32m----> 1\u001b[0;31m \u001b[0mplt\u001b[0m\u001b[0;34m.\u001b[0m\u001b[0mplot\u001b[0m\u001b[0;34m(\u001b[0m\u001b[0mmodel_history\u001b[0m\u001b[0;34m.\u001b[0m\u001b[0mhistory\u001b[0m\u001b[0;34m(\u001b[0m\u001b[0;34m'accuracy'\u001b[0m\u001b[0;34m,\u001b[0m\u001b[0maccuracy\u001b[0m\u001b[0;34m)\u001b[0m\u001b[0;34m)\u001b[0m\u001b[0;34m\u001b[0m\u001b[0;34m\u001b[0m\u001b[0m\n\u001b[0m\u001b[1;32m      2\u001b[0m \u001b[0mplt\u001b[0m\u001b[0;34m.\u001b[0m\u001b[0mplot\u001b[0m\u001b[0;34m(\u001b[0m\u001b[0mmodel_history\u001b[0m\u001b[0;34m.\u001b[0m\u001b[0mhistory\u001b[0m\u001b[0;34m(\u001b[0m\u001b[0;34m'val_accuracy'\u001b[0m\u001b[0;34m,\u001b[0m\u001b[0mval_accuracy\u001b[0m\u001b[0;34m)\u001b[0m\u001b[0;34m)\u001b[0m\u001b[0;34m\u001b[0m\u001b[0;34m\u001b[0m\u001b[0m\n\u001b[1;32m      3\u001b[0m \u001b[0mplt\u001b[0m\u001b[0;34m.\u001b[0m\u001b[0mtitle\u001b[0m\u001b[0;34m(\u001b[0m\u001b[0;34m'model accuracy'\u001b[0m\u001b[0;34m)\u001b[0m\u001b[0;34m\u001b[0m\u001b[0;34m\u001b[0m\u001b[0m\n\u001b[1;32m      4\u001b[0m \u001b[0mplt\u001b[0m\u001b[0;34m.\u001b[0m\u001b[0mxlabel\u001b[0m\u001b[0;34m(\u001b[0m\u001b[0;34m'epoch'\u001b[0m\u001b[0;34m)\u001b[0m\u001b[0;34m\u001b[0m\u001b[0;34m\u001b[0m\u001b[0m\n\u001b[1;32m      5\u001b[0m \u001b[0mplt\u001b[0m\u001b[0;34m.\u001b[0m\u001b[0mylabel\u001b[0m\u001b[0;34m(\u001b[0m\u001b[0;34m'accuracy'\u001b[0m\u001b[0;34m)\u001b[0m\u001b[0;34m\u001b[0m\u001b[0;34m\u001b[0m\u001b[0m\n",
            "\u001b[0;31mNameError\u001b[0m: name 'accuracy' is not defined"
          ]
        }
      ]
    },
    {
      "cell_type": "code",
      "metadata": {
        "id": "We2VSb6bU6c1"
      },
      "source": [
        "y_pred = classifier.predict(X_test)\r\n",
        "y_pred =(y_pred > 0.5)"
      ],
      "execution_count": 29,
      "outputs": []
    },
    {
      "cell_type": "code",
      "metadata": {
        "id": "JCl7GlllVM5H",
        "colab": {
          "base_uri": "https://localhost:8080/"
        },
        "outputId": "b685d3bf-92c7-4514-e25e-90c072f234b7"
      },
      "source": [
        "from sklearn.metrics import confusion_matrix,accuracy_score\r\n",
        "cm= confusion_matrix(y_pred,Y_test)\r\n",
        "ac= accuracy_score(y_pred,Y_test)\r\n",
        "print(cm)\r\n",
        "print(ac)"
      ],
      "execution_count": 32,
      "outputs": [
        {
          "output_type": "stream",
          "text": [
            "[[1595  405]\n",
            " [   0    0]]\n",
            "0.7975\n"
          ],
          "name": "stdout"
        }
      ]
    }
  ]
}